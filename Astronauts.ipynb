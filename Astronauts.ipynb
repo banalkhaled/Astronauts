{
 "cells": [
  {
   "cell_type": "code",
   "execution_count": 1,
   "id": "3d98d332",
   "metadata": {},
   "outputs": [],
   "source": [
    "#import libraries\n",
    "import csv\n",
    "import pandas as pd\n",
    "import matplotlib.pyplot as plt"
   ]
  },
  {
   "cell_type": "code",
   "execution_count": 2,
   "id": "71816ae6",
   "metadata": {},
   "outputs": [
    {
     "data": {
      "text/html": [
       "<div>\n",
       "<style scoped>\n",
       "    .dataframe tbody tr th:only-of-type {\n",
       "        vertical-align: middle;\n",
       "    }\n",
       "\n",
       "    .dataframe tbody tr th {\n",
       "        vertical-align: top;\n",
       "    }\n",
       "\n",
       "    .dataframe thead th {\n",
       "        text-align: right;\n",
       "    }\n",
       "</style>\n",
       "<table border=\"1\" class=\"dataframe\">\n",
       "  <thead>\n",
       "    <tr style=\"text-align: right;\">\n",
       "      <th></th>\n",
       "      <th>ID</th>\n",
       "      <th>Number</th>\n",
       "      <th>Nationwide number</th>\n",
       "      <th>Name</th>\n",
       "      <th>Original name</th>\n",
       "      <th>Sex</th>\n",
       "      <th>Year of birth</th>\n",
       "      <th>Nationality</th>\n",
       "      <th>Military/Civilian</th>\n",
       "      <th>Selection</th>\n",
       "      <th>...</th>\n",
       "      <th>Year of mission</th>\n",
       "      <th>Mission title</th>\n",
       "      <th>Ascend shuttle</th>\n",
       "      <th>In orbit</th>\n",
       "      <th>Descend shuttle</th>\n",
       "      <th>Hours/mission</th>\n",
       "      <th>Total hrs (sum)</th>\n",
       "      <th>Field21</th>\n",
       "      <th>EVA hrs/mission</th>\n",
       "      <th>Total EVA hrs</th>\n",
       "    </tr>\n",
       "  </thead>\n",
       "  <tbody>\n",
       "    <tr>\n",
       "      <th>0</th>\n",
       "      <td>1</td>\n",
       "      <td>1.0</td>\n",
       "      <td>1.0</td>\n",
       "      <td>Gagarin, Yuri</td>\n",
       "      <td>ГАГАРИН Юрий Алексеевич</td>\n",
       "      <td>M</td>\n",
       "      <td>1934.0</td>\n",
       "      <td>U.S.S.R/Russia</td>\n",
       "      <td>Mil</td>\n",
       "      <td>TsPK-1</td>\n",
       "      <td>...</td>\n",
       "      <td>1961.0</td>\n",
       "      <td>Vostok 1</td>\n",
       "      <td>Vostok 1</td>\n",
       "      <td>Vostok 2</td>\n",
       "      <td>Vostok 3</td>\n",
       "      <td>1.77</td>\n",
       "      <td>1.77</td>\n",
       "      <td>0.0</td>\n",
       "      <td>0.0</td>\n",
       "      <td>0.0</td>\n",
       "    </tr>\n",
       "    <tr>\n",
       "      <th>1</th>\n",
       "      <td>2</td>\n",
       "      <td>2.0</td>\n",
       "      <td>2.0</td>\n",
       "      <td>Titov, Gherman</td>\n",
       "      <td>ТИТОВ Герман Степанович</td>\n",
       "      <td>M</td>\n",
       "      <td>1935.0</td>\n",
       "      <td>U.S.S.R/Russia</td>\n",
       "      <td>Mil</td>\n",
       "      <td>TsPK-1</td>\n",
       "      <td>...</td>\n",
       "      <td>1961.0</td>\n",
       "      <td>Vostok 2</td>\n",
       "      <td>Vostok 2</td>\n",
       "      <td>Vostok 2</td>\n",
       "      <td>Vostok 2</td>\n",
       "      <td>25.00</td>\n",
       "      <td>25.30</td>\n",
       "      <td>0.0</td>\n",
       "      <td>0.0</td>\n",
       "      <td>0.0</td>\n",
       "    </tr>\n",
       "    <tr>\n",
       "      <th>2</th>\n",
       "      <td>3</td>\n",
       "      <td>3.0</td>\n",
       "      <td>1.0</td>\n",
       "      <td>Glenn, John H., Jr.</td>\n",
       "      <td>Glenn, John H., Jr.</td>\n",
       "      <td>M</td>\n",
       "      <td>1921.0</td>\n",
       "      <td>U.S.</td>\n",
       "      <td>Mil</td>\n",
       "      <td>NASA Astronaut Group 1</td>\n",
       "      <td>...</td>\n",
       "      <td>1962.0</td>\n",
       "      <td>MA-6</td>\n",
       "      <td>MA-6</td>\n",
       "      <td>MA-6</td>\n",
       "      <td>MA-6</td>\n",
       "      <td>5.00</td>\n",
       "      <td>218.00</td>\n",
       "      <td>0.0</td>\n",
       "      <td>0.0</td>\n",
       "      <td>0.0</td>\n",
       "    </tr>\n",
       "    <tr>\n",
       "      <th>3</th>\n",
       "      <td>4</td>\n",
       "      <td>3.0</td>\n",
       "      <td>1.0</td>\n",
       "      <td>Glenn, John H., Jr.</td>\n",
       "      <td>Glenn, John H., Jr.</td>\n",
       "      <td>M</td>\n",
       "      <td>1921.0</td>\n",
       "      <td>U.S.</td>\n",
       "      <td>Mil</td>\n",
       "      <td>NASA Astronaut Group 2</td>\n",
       "      <td>...</td>\n",
       "      <td>1998.0</td>\n",
       "      <td>STS-95</td>\n",
       "      <td>STS-95</td>\n",
       "      <td>STS-95</td>\n",
       "      <td>STS-95</td>\n",
       "      <td>213.00</td>\n",
       "      <td>218.00</td>\n",
       "      <td>0.0</td>\n",
       "      <td>0.0</td>\n",
       "      <td>0.0</td>\n",
       "    </tr>\n",
       "    <tr>\n",
       "      <th>4</th>\n",
       "      <td>5</td>\n",
       "      <td>4.0</td>\n",
       "      <td>2.0</td>\n",
       "      <td>Carpenter, M. Scott</td>\n",
       "      <td>Carpenter, M. Scott</td>\n",
       "      <td>M</td>\n",
       "      <td>1925.0</td>\n",
       "      <td>U.S.</td>\n",
       "      <td>Mil</td>\n",
       "      <td>NASA- 1</td>\n",
       "      <td>...</td>\n",
       "      <td>1962.0</td>\n",
       "      <td>Mercury-Atlas 7</td>\n",
       "      <td>Mercury-Atlas 7</td>\n",
       "      <td>Mercury-Atlas 7</td>\n",
       "      <td>Mercury-Atlas 7</td>\n",
       "      <td>5.00</td>\n",
       "      <td>5.00</td>\n",
       "      <td>0.0</td>\n",
       "      <td>0.0</td>\n",
       "      <td>0.0</td>\n",
       "    </tr>\n",
       "  </tbody>\n",
       "</table>\n",
       "<p>5 rows × 24 columns</p>\n",
       "</div>"
      ],
      "text/plain": [
       "   ID  Number  Nationwide number                 Name  \\\n",
       "0   1     1.0                1.0        Gagarin, Yuri   \n",
       "1   2     2.0                2.0       Titov, Gherman   \n",
       "2   3     3.0                1.0  Glenn, John H., Jr.   \n",
       "3   4     3.0                1.0  Glenn, John H., Jr.   \n",
       "4   5     4.0                2.0  Carpenter, M. Scott   \n",
       "\n",
       "             Original name Sex  Year of birth     Nationality  \\\n",
       "0  ГАГАРИН Юрий Алексеевич   M         1934.0  U.S.S.R/Russia   \n",
       "1  ТИТОВ Герман Степанович   M         1935.0  U.S.S.R/Russia   \n",
       "2      Glenn, John H., Jr.   M         1921.0            U.S.   \n",
       "3      Glenn, John H., Jr.   M         1921.0            U.S.   \n",
       "4      Carpenter, M. Scott   M         1925.0            U.S.   \n",
       "\n",
       "  Military/Civilian               Selection  ...  Year of mission  \\\n",
       "0               Mil                  TsPK-1  ...           1961.0   \n",
       "1               Mil                  TsPK-1  ...           1961.0   \n",
       "2               Mil  NASA Astronaut Group 1  ...           1962.0   \n",
       "3               Mil  NASA Astronaut Group 2  ...           1998.0   \n",
       "4               Mil                 NASA- 1  ...           1962.0   \n",
       "\n",
       "     Mission title   Ascend shuttle         In orbit  Descend shuttle  \\\n",
       "0         Vostok 1         Vostok 1         Vostok 2         Vostok 3   \n",
       "1         Vostok 2         Vostok 2         Vostok 2         Vostok 2   \n",
       "2             MA-6             MA-6             MA-6             MA-6   \n",
       "3           STS-95           STS-95           STS-95           STS-95   \n",
       "4  Mercury-Atlas 7  Mercury-Atlas 7  Mercury-Atlas 7  Mercury-Atlas 7   \n",
       "\n",
       "  Hours/mission Total hrs (sum) Field21 EVA hrs/mission  Total EVA hrs  \n",
       "0          1.77            1.77     0.0             0.0            0.0  \n",
       "1         25.00           25.30     0.0             0.0            0.0  \n",
       "2          5.00          218.00     0.0             0.0            0.0  \n",
       "3        213.00          218.00     0.0             0.0            0.0  \n",
       "4          5.00            5.00     0.0             0.0            0.0  \n",
       "\n",
       "[5 rows x 24 columns]"
      ]
     },
     "execution_count": 2,
     "metadata": {},
     "output_type": "execute_result"
    }
   ],
   "source": [
    "#first open and access the file\n",
    "df = pd.read_csv('Astronauts.csv', encoding='UTF-8') \n",
    "df.head()"
   ]
  },
  {
   "cell_type": "code",
   "execution_count": 3,
   "id": "7bc5a33b",
   "metadata": {},
   "outputs": [],
   "source": [
    "#clean the data by deleting empty rows\n",
    "df = df.iloc[:-1]"
   ]
  },
  {
   "cell_type": "code",
   "execution_count": 4,
   "id": "5c25e40f",
   "metadata": {},
   "outputs": [
    {
     "data": {
      "text/html": [
       "<div>\n",
       "<style scoped>\n",
       "    .dataframe tbody tr th:only-of-type {\n",
       "        vertical-align: middle;\n",
       "    }\n",
       "\n",
       "    .dataframe tbody tr th {\n",
       "        vertical-align: top;\n",
       "    }\n",
       "\n",
       "    .dataframe thead th {\n",
       "        text-align: right;\n",
       "    }\n",
       "</style>\n",
       "<table border=\"1\" class=\"dataframe\">\n",
       "  <thead>\n",
       "    <tr style=\"text-align: right;\">\n",
       "      <th></th>\n",
       "      <th>ID</th>\n",
       "      <th>Number</th>\n",
       "      <th>Nationwide number</th>\n",
       "      <th>Name</th>\n",
       "      <th>Original name</th>\n",
       "      <th>Sex</th>\n",
       "      <th>Year of birth</th>\n",
       "      <th>Nationality</th>\n",
       "      <th>Military/Civilian</th>\n",
       "      <th>Selection</th>\n",
       "      <th>...</th>\n",
       "      <th>Mission title</th>\n",
       "      <th>Ascend shuttle</th>\n",
       "      <th>In orbit</th>\n",
       "      <th>Descend shuttle</th>\n",
       "      <th>Hours/mission</th>\n",
       "      <th>Total hrs (sum)</th>\n",
       "      <th>Field21</th>\n",
       "      <th>EVA hrs/mission</th>\n",
       "      <th>Total EVA hrs</th>\n",
       "      <th>age</th>\n",
       "    </tr>\n",
       "  </thead>\n",
       "  <tbody>\n",
       "    <tr>\n",
       "      <th>0</th>\n",
       "      <td>1</td>\n",
       "      <td>1.0</td>\n",
       "      <td>1.0</td>\n",
       "      <td>Gagarin, Yuri</td>\n",
       "      <td>ГАГАРИН Юрий Алексеевич</td>\n",
       "      <td>M</td>\n",
       "      <td>1934.0</td>\n",
       "      <td>U.S.S.R/Russia</td>\n",
       "      <td>Mil</td>\n",
       "      <td>TsPK-1</td>\n",
       "      <td>...</td>\n",
       "      <td>Vostok 1</td>\n",
       "      <td>Vostok 1</td>\n",
       "      <td>Vostok 2</td>\n",
       "      <td>Vostok 3</td>\n",
       "      <td>1.77</td>\n",
       "      <td>1.77</td>\n",
       "      <td>0.0</td>\n",
       "      <td>0.0</td>\n",
       "      <td>0.0</td>\n",
       "      <td>27.0</td>\n",
       "    </tr>\n",
       "    <tr>\n",
       "      <th>1</th>\n",
       "      <td>2</td>\n",
       "      <td>2.0</td>\n",
       "      <td>2.0</td>\n",
       "      <td>Titov, Gherman</td>\n",
       "      <td>ТИТОВ Герман Степанович</td>\n",
       "      <td>M</td>\n",
       "      <td>1935.0</td>\n",
       "      <td>U.S.S.R/Russia</td>\n",
       "      <td>Mil</td>\n",
       "      <td>TsPK-1</td>\n",
       "      <td>...</td>\n",
       "      <td>Vostok 2</td>\n",
       "      <td>Vostok 2</td>\n",
       "      <td>Vostok 2</td>\n",
       "      <td>Vostok 2</td>\n",
       "      <td>25.00</td>\n",
       "      <td>25.30</td>\n",
       "      <td>0.0</td>\n",
       "      <td>0.0</td>\n",
       "      <td>0.0</td>\n",
       "      <td>26.0</td>\n",
       "    </tr>\n",
       "    <tr>\n",
       "      <th>2</th>\n",
       "      <td>3</td>\n",
       "      <td>3.0</td>\n",
       "      <td>1.0</td>\n",
       "      <td>Glenn, John H., Jr.</td>\n",
       "      <td>Glenn, John H., Jr.</td>\n",
       "      <td>M</td>\n",
       "      <td>1921.0</td>\n",
       "      <td>U.S.</td>\n",
       "      <td>Mil</td>\n",
       "      <td>NASA Astronaut Group 1</td>\n",
       "      <td>...</td>\n",
       "      <td>MA-6</td>\n",
       "      <td>MA-6</td>\n",
       "      <td>MA-6</td>\n",
       "      <td>MA-6</td>\n",
       "      <td>5.00</td>\n",
       "      <td>218.00</td>\n",
       "      <td>0.0</td>\n",
       "      <td>0.0</td>\n",
       "      <td>0.0</td>\n",
       "      <td>41.0</td>\n",
       "    </tr>\n",
       "    <tr>\n",
       "      <th>3</th>\n",
       "      <td>4</td>\n",
       "      <td>3.0</td>\n",
       "      <td>1.0</td>\n",
       "      <td>Glenn, John H., Jr.</td>\n",
       "      <td>Glenn, John H., Jr.</td>\n",
       "      <td>M</td>\n",
       "      <td>1921.0</td>\n",
       "      <td>U.S.</td>\n",
       "      <td>Mil</td>\n",
       "      <td>NASA Astronaut Group 2</td>\n",
       "      <td>...</td>\n",
       "      <td>STS-95</td>\n",
       "      <td>STS-95</td>\n",
       "      <td>STS-95</td>\n",
       "      <td>STS-95</td>\n",
       "      <td>213.00</td>\n",
       "      <td>218.00</td>\n",
       "      <td>0.0</td>\n",
       "      <td>0.0</td>\n",
       "      <td>0.0</td>\n",
       "      <td>77.0</td>\n",
       "    </tr>\n",
       "    <tr>\n",
       "      <th>4</th>\n",
       "      <td>5</td>\n",
       "      <td>4.0</td>\n",
       "      <td>2.0</td>\n",
       "      <td>Carpenter, M. Scott</td>\n",
       "      <td>Carpenter, M. Scott</td>\n",
       "      <td>M</td>\n",
       "      <td>1925.0</td>\n",
       "      <td>U.S.</td>\n",
       "      <td>Mil</td>\n",
       "      <td>NASA- 1</td>\n",
       "      <td>...</td>\n",
       "      <td>Mercury-Atlas 7</td>\n",
       "      <td>Mercury-Atlas 7</td>\n",
       "      <td>Mercury-Atlas 7</td>\n",
       "      <td>Mercury-Atlas 7</td>\n",
       "      <td>5.00</td>\n",
       "      <td>5.00</td>\n",
       "      <td>0.0</td>\n",
       "      <td>0.0</td>\n",
       "      <td>0.0</td>\n",
       "      <td>37.0</td>\n",
       "    </tr>\n",
       "  </tbody>\n",
       "</table>\n",
       "<p>5 rows × 25 columns</p>\n",
       "</div>"
      ],
      "text/plain": [
       "   ID  Number  Nationwide number                 Name  \\\n",
       "0   1     1.0                1.0        Gagarin, Yuri   \n",
       "1   2     2.0                2.0       Titov, Gherman   \n",
       "2   3     3.0                1.0  Glenn, John H., Jr.   \n",
       "3   4     3.0                1.0  Glenn, John H., Jr.   \n",
       "4   5     4.0                2.0  Carpenter, M. Scott   \n",
       "\n",
       "             Original name Sex  Year of birth     Nationality  \\\n",
       "0  ГАГАРИН Юрий Алексеевич   M         1934.0  U.S.S.R/Russia   \n",
       "1  ТИТОВ Герман Степанович   M         1935.0  U.S.S.R/Russia   \n",
       "2      Glenn, John H., Jr.   M         1921.0            U.S.   \n",
       "3      Glenn, John H., Jr.   M         1921.0            U.S.   \n",
       "4      Carpenter, M. Scott   M         1925.0            U.S.   \n",
       "\n",
       "  Military/Civilian               Selection  ...    Mission title  \\\n",
       "0               Mil                  TsPK-1  ...         Vostok 1   \n",
       "1               Mil                  TsPK-1  ...         Vostok 2   \n",
       "2               Mil  NASA Astronaut Group 1  ...             MA-6   \n",
       "3               Mil  NASA Astronaut Group 2  ...           STS-95   \n",
       "4               Mil                 NASA- 1  ...  Mercury-Atlas 7   \n",
       "\n",
       "    Ascend shuttle         In orbit  Descend shuttle  Hours/mission  \\\n",
       "0         Vostok 1         Vostok 2         Vostok 3           1.77   \n",
       "1         Vostok 2         Vostok 2         Vostok 2          25.00   \n",
       "2             MA-6             MA-6             MA-6           5.00   \n",
       "3           STS-95           STS-95           STS-95         213.00   \n",
       "4  Mercury-Atlas 7  Mercury-Atlas 7  Mercury-Atlas 7           5.00   \n",
       "\n",
       "  Total hrs (sum) Field21 EVA hrs/mission Total EVA hrs   age  \n",
       "0            1.77     0.0             0.0           0.0  27.0  \n",
       "1           25.30     0.0             0.0           0.0  26.0  \n",
       "2          218.00     0.0             0.0           0.0  41.0  \n",
       "3          218.00     0.0             0.0           0.0  77.0  \n",
       "4            5.00     0.0             0.0           0.0  37.0  \n",
       "\n",
       "[5 rows x 25 columns]"
      ]
     },
     "execution_count": 4,
     "metadata": {},
     "output_type": "execute_result"
    }
   ],
   "source": [
    "#lets calculate astronauts age\n",
    "df['age'] = df['Year of mission'] - df['Year of birth']\n",
    "df.head()"
   ]
  },
  {
   "cell_type": "code",
   "execution_count": 5,
   "id": "4e495384",
   "metadata": {},
   "outputs": [
    {
     "data": {
      "text/plain": [
       "0.12313227670706085"
      ]
     },
     "execution_count": 5,
     "metadata": {},
     "output_type": "execute_result"
    }
   ],
   "source": [
    "def correlation(x,y):\n",
    "    std_x = (x - x.mean()) / x.std(ddof=0)\n",
    "    std_y = (y - y.mean()) / y.std(ddof=0)\n",
    "    \n",
    "    return (std_x * std_y).mean()\n",
    "correlation(df['age'], df['Total hrs (sum)'])"
   ]
  },
  {
   "cell_type": "code",
   "execution_count": 6,
   "id": "778f4eec",
   "metadata": {},
   "outputs": [
    {
     "data": {
      "text/plain": [
       "0.12801163102409885"
      ]
     },
     "execution_count": 6,
     "metadata": {},
     "output_type": "execute_result"
    }
   ],
   "source": [
    "correlation(df['age'], df['Total EVA hrs'])"
   ]
  },
  {
   "cell_type": "code",
   "execution_count": 7,
   "id": "04f9fd04",
   "metadata": {},
   "outputs": [
    {
     "data": {
      "text/plain": [
       "0.4195285261347723"
      ]
     },
     "execution_count": 7,
     "metadata": {},
     "output_type": "execute_result"
    }
   ],
   "source": [
    "correlation(df['age'], df['Year of mission'])"
   ]
  },
  {
   "cell_type": "code",
   "execution_count": 8,
   "id": "86a31b9d",
   "metadata": {},
   "outputs": [
    {
     "data": {
      "text/plain": [
       "0.09951423679154373"
      ]
     },
     "execution_count": 8,
     "metadata": {},
     "output_type": "execute_result"
    }
   ],
   "source": [
    "correlation(df['age'], df['total number of missions'])"
   ]
  },
  {
   "cell_type": "code",
   "execution_count": 9,
   "id": "192bbd0e",
   "metadata": {},
   "outputs": [
    {
     "data": {
      "text/html": [
       "<div>\n",
       "<style scoped>\n",
       "    .dataframe tbody tr th:only-of-type {\n",
       "        vertical-align: middle;\n",
       "    }\n",
       "\n",
       "    .dataframe tbody tr th {\n",
       "        vertical-align: top;\n",
       "    }\n",
       "\n",
       "    .dataframe thead th {\n",
       "        text-align: right;\n",
       "    }\n",
       "</style>\n",
       "<table border=\"1\" class=\"dataframe\">\n",
       "  <thead>\n",
       "    <tr style=\"text-align: right;\">\n",
       "      <th></th>\n",
       "      <th>ID</th>\n",
       "      <th>Number</th>\n",
       "      <th>Nationwide number</th>\n",
       "      <th>Year of birth</th>\n",
       "      <th>Year of Selection</th>\n",
       "      <th>mission number</th>\n",
       "      <th>total number of missions</th>\n",
       "      <th>Year of mission</th>\n",
       "      <th>Hours/mission</th>\n",
       "      <th>Total hrs (sum)</th>\n",
       "      <th>Field21</th>\n",
       "      <th>EVA hrs/mission</th>\n",
       "      <th>Total EVA hrs</th>\n",
       "      <th>age</th>\n",
       "    </tr>\n",
       "  </thead>\n",
       "  <tbody>\n",
       "    <tr>\n",
       "      <th>count</th>\n",
       "      <td>1277.000000</td>\n",
       "      <td>1277.000000</td>\n",
       "      <td>1277.000000</td>\n",
       "      <td>1277.000000</td>\n",
       "      <td>1277.00000</td>\n",
       "      <td>1277.000000</td>\n",
       "      <td>1277.000000</td>\n",
       "      <td>1277.000000</td>\n",
       "      <td>1277.000000</td>\n",
       "      <td>1277.000000</td>\n",
       "      <td>1277.000000</td>\n",
       "      <td>1277.000000</td>\n",
       "      <td>1277.000000</td>\n",
       "      <td>1277.000000</td>\n",
       "    </tr>\n",
       "    <tr>\n",
       "      <th>mean</th>\n",
       "      <td>639.000000</td>\n",
       "      <td>274.233359</td>\n",
       "      <td>128.754111</td>\n",
       "      <td>1951.683634</td>\n",
       "      <td>1985.58888</td>\n",
       "      <td>1.992169</td>\n",
       "      <td>2.982772</td>\n",
       "      <td>1994.597494</td>\n",
       "      <td>1050.883984</td>\n",
       "      <td>2968.341410</td>\n",
       "      <td>0.628818</td>\n",
       "      <td>3.661287</td>\n",
       "      <td>10.761410</td>\n",
       "      <td>42.913861</td>\n",
       "    </tr>\n",
       "    <tr>\n",
       "      <th>std</th>\n",
       "      <td>368.782456</td>\n",
       "      <td>148.185389</td>\n",
       "      <td>97.263590</td>\n",
       "      <td>11.435117</td>\n",
       "      <td>12.21917</td>\n",
       "      <td>1.145361</td>\n",
       "      <td>1.400745</td>\n",
       "      <td>12.583237</td>\n",
       "      <td>1714.791959</td>\n",
       "      <td>4214.715104</td>\n",
       "      <td>1.165753</td>\n",
       "      <td>7.287245</td>\n",
       "      <td>16.045247</td>\n",
       "      <td>5.819552</td>\n",
       "    </tr>\n",
       "    <tr>\n",
       "      <th>min</th>\n",
       "      <td>1.000000</td>\n",
       "      <td>1.000000</td>\n",
       "      <td>1.000000</td>\n",
       "      <td>1921.000000</td>\n",
       "      <td>1959.00000</td>\n",
       "      <td>1.000000</td>\n",
       "      <td>1.000000</td>\n",
       "      <td>1961.000000</td>\n",
       "      <td>0.000000</td>\n",
       "      <td>0.610000</td>\n",
       "      <td>0.000000</td>\n",
       "      <td>0.000000</td>\n",
       "      <td>0.000000</td>\n",
       "      <td>26.000000</td>\n",
       "    </tr>\n",
       "    <tr>\n",
       "      <th>25%</th>\n",
       "      <td>320.000000</td>\n",
       "      <td>153.000000</td>\n",
       "      <td>47.000000</td>\n",
       "      <td>1944.000000</td>\n",
       "      <td>1978.00000</td>\n",
       "      <td>1.000000</td>\n",
       "      <td>2.000000</td>\n",
       "      <td>1986.000000</td>\n",
       "      <td>190.030000</td>\n",
       "      <td>482.000000</td>\n",
       "      <td>0.000000</td>\n",
       "      <td>0.000000</td>\n",
       "      <td>0.000000</td>\n",
       "      <td>39.000000</td>\n",
       "    </tr>\n",
       "    <tr>\n",
       "      <th>50%</th>\n",
       "      <td>639.000000</td>\n",
       "      <td>278.000000</td>\n",
       "      <td>110.000000</td>\n",
       "      <td>1952.000000</td>\n",
       "      <td>1987.00000</td>\n",
       "      <td>2.000000</td>\n",
       "      <td>3.000000</td>\n",
       "      <td>1995.000000</td>\n",
       "      <td>261.000000</td>\n",
       "      <td>932.000000</td>\n",
       "      <td>0.000000</td>\n",
       "      <td>0.000000</td>\n",
       "      <td>0.000000</td>\n",
       "      <td>42.000000</td>\n",
       "    </tr>\n",
       "    <tr>\n",
       "      <th>75%</th>\n",
       "      <td>958.000000</td>\n",
       "      <td>390.000000</td>\n",
       "      <td>204.000000</td>\n",
       "      <td>1959.000000</td>\n",
       "      <td>1995.00000</td>\n",
       "      <td>3.000000</td>\n",
       "      <td>4.000000</td>\n",
       "      <td>2003.000000</td>\n",
       "      <td>382.000000</td>\n",
       "      <td>4264.000000</td>\n",
       "      <td>1.000000</td>\n",
       "      <td>4.720000</td>\n",
       "      <td>19.520000</td>\n",
       "      <td>47.000000</td>\n",
       "    </tr>\n",
       "    <tr>\n",
       "      <th>max</th>\n",
       "      <td>1277.000000</td>\n",
       "      <td>565.000000</td>\n",
       "      <td>433.000000</td>\n",
       "      <td>1983.000000</td>\n",
       "      <td>2018.00000</td>\n",
       "      <td>7.000000</td>\n",
       "      <td>7.000000</td>\n",
       "      <td>2019.000000</td>\n",
       "      <td>10505.000000</td>\n",
       "      <td>21083.520000</td>\n",
       "      <td>7.000000</td>\n",
       "      <td>89.130000</td>\n",
       "      <td>78.800000</td>\n",
       "      <td>77.000000</td>\n",
       "    </tr>\n",
       "  </tbody>\n",
       "</table>\n",
       "</div>"
      ],
      "text/plain": [
       "                ID       Number  Nationwide number  Year of birth  \\\n",
       "count  1277.000000  1277.000000        1277.000000    1277.000000   \n",
       "mean    639.000000   274.233359         128.754111    1951.683634   \n",
       "std     368.782456   148.185389          97.263590      11.435117   \n",
       "min       1.000000     1.000000           1.000000    1921.000000   \n",
       "25%     320.000000   153.000000          47.000000    1944.000000   \n",
       "50%     639.000000   278.000000         110.000000    1952.000000   \n",
       "75%     958.000000   390.000000         204.000000    1959.000000   \n",
       "max    1277.000000   565.000000         433.000000    1983.000000   \n",
       "\n",
       "       Year of Selection  mission number  total number of missions  \\\n",
       "count         1277.00000     1277.000000               1277.000000   \n",
       "mean          1985.58888        1.992169                  2.982772   \n",
       "std             12.21917        1.145361                  1.400745   \n",
       "min           1959.00000        1.000000                  1.000000   \n",
       "25%           1978.00000        1.000000                  2.000000   \n",
       "50%           1987.00000        2.000000                  3.000000   \n",
       "75%           1995.00000        3.000000                  4.000000   \n",
       "max           2018.00000        7.000000                  7.000000   \n",
       "\n",
       "       Year of mission  Hours/mission  Total hrs (sum)      Field21  \\\n",
       "count      1277.000000    1277.000000      1277.000000  1277.000000   \n",
       "mean       1994.597494    1050.883984      2968.341410     0.628818   \n",
       "std          12.583237    1714.791959      4214.715104     1.165753   \n",
       "min        1961.000000       0.000000         0.610000     0.000000   \n",
       "25%        1986.000000     190.030000       482.000000     0.000000   \n",
       "50%        1995.000000     261.000000       932.000000     0.000000   \n",
       "75%        2003.000000     382.000000      4264.000000     1.000000   \n",
       "max        2019.000000   10505.000000     21083.520000     7.000000   \n",
       "\n",
       "       EVA hrs/mission  Total EVA hrs          age  \n",
       "count      1277.000000    1277.000000  1277.000000  \n",
       "mean          3.661287      10.761410    42.913861  \n",
       "std           7.287245      16.045247     5.819552  \n",
       "min           0.000000       0.000000    26.000000  \n",
       "25%           0.000000       0.000000    39.000000  \n",
       "50%           0.000000       0.000000    42.000000  \n",
       "75%           4.720000      19.520000    47.000000  \n",
       "max          89.130000      78.800000    77.000000  "
      ]
     },
     "execution_count": 9,
     "metadata": {},
     "output_type": "execute_result"
    }
   ],
   "source": [
    "df.describe()"
   ]
  },
  {
   "cell_type": "code",
   "execution_count": 10,
   "id": "0f8fd374",
   "metadata": {},
   "outputs": [
    {
     "name": "stdout",
     "output_type": "stream",
     "text": [
      "age    42.913861\n",
      "dtype: float64\n"
     ]
    }
   ],
   "source": [
    "#calculate average astronaut age\n",
    "#def avg(x):\n",
    "print(df[['age']].sum(axis = 0, skipna = True)/df[['age']].count())"
   ]
  },
  {
   "cell_type": "code",
   "execution_count": 11,
   "id": "95573e94",
   "metadata": {},
   "outputs": [
    {
     "data": {
      "text/plain": [
       "<AxesSubplot:ylabel='Density'>"
      ]
     },
     "execution_count": 11,
     "metadata": {},
     "output_type": "execute_result"
    },
    {
     "data": {
      "image/png": "[encoded data removed]",
      "text/plain": [
       "<Figure size 432x288 with 1 Axes>"
      ]
     },
     "metadata": {
      "needs_background": "light"
     },
     "output_type": "display_data"
    },
    {
     "data": {
      "image/png": "[encoded data removed]",
      "text/plain": [
       "<Figure size 432x288 with 1 Axes>"
      ]
     },
     "metadata": {
      "needs_background": "light"
     },
     "output_type": "display_data"
    }
   ],
   "source": [
    "df.plot.scatter(x=\"Year of mission\", y=\"age\")\n",
    "df.plot.kde(x=\"Year of mission\", y=\"age\")"
   ]
  },
  {
   "cell_type": "code",
   "execution_count": 12,
   "id": "6181ebc7",
   "metadata": {
    "scrolled": true
   },
   "outputs": [
    {
     "data": {
      "text/plain": [
       "564"
      ]
     },
     "execution_count": 12,
     "metadata": {},
     "output_type": "execute_result"
    }
   ],
   "source": [
    "astro_df = df.drop_duplicates(subset=['Name'], keep='last')\n",
    "\n",
    "len(astro_df.index)\n"
   ]
  },
  {
   "cell_type": "code",
   "execution_count": 13,
   "id": "afcfd135",
   "metadata": {},
   "outputs": [
    {
     "data": {
      "text/plain": [
       "<AxesSubplot:ylabel='None'>"
      ]
     },
     "execution_count": 13,
     "metadata": {},
     "output_type": "execute_result"
    },
    {
     "data": {
      "image/png": "[encoded data removed]",
      "text/plain": [
       "<Figure size 432x288 with 1 Axes>"
      ]
     },
     "metadata": {},
     "output_type": "display_data"
    }
   ],
   "source": [
    "astro_df.groupby('Military/Civilian').size().plot(kind='pie')"
   ]
  },
  {
   "cell_type": "code",
   "execution_count": 14,
   "id": "64fd8e8d",
   "metadata": {},
   "outputs": [
    {
     "data": {
      "text/plain": [
       "<AxesSubplot:ylabel='None'>"
      ]
     },
     "execution_count": 14,
     "metadata": {},
     "output_type": "execute_result"
    },
    {
     "data": {
      "image/png": "[encoded data removed]",
      "text/plain": [
       "<Figure size 432x288 with 1 Axes>"
      ]
     },
     "metadata": {},
     "output_type": "display_data"
    }
   ],
   "source": [
    "astro_df.groupby('Sex').size().plot(kind='pie')"
   ]
  },
  {
   "cell_type": "code",
   "execution_count": 15,
   "id": "f8be3494",
   "metadata": {},
   "outputs": [
    {
     "data": {
      "text/plain": [
       "<AxesSubplot:xlabel='Nationality'>"
      ]
     },
     "execution_count": 15,
     "metadata": {},
     "output_type": "execute_result"
    },
    {
     "data": {
      "image/png": "[encoded data removed]",
      "text/plain": [
       "<Figure size 432x288 with 1 Axes>"
      ]
     },
     "metadata": {
      "needs_background": "light"
     },
     "output_type": "display_data"
    }
   ],
   "source": [
    "astro_df.groupby('Nationality').size().plot(kind='bar')"
   ]
  },
  {
   "cell_type": "code",
   "execution_count": 16,
   "id": "6e891caf",
   "metadata": {},
   "outputs": [
    {
     "data": {
      "text/plain": [
       "<AxesSubplot:xlabel='Occupation'>"
      ]
     },
     "execution_count": 16,
     "metadata": {},
     "output_type": "execute_result"
    },
    {
     "data": {
      "image/png": "[encoded data removed]",
      "text/plain": [
       "<Figure size 432x288 with 1 Axes>"
      ]
     },
     "metadata": {
      "needs_background": "light"
     },
     "output_type": "display_data"
    }
   ],
   "source": [
    "astro_df.groupby('Occupation').size().plot(kind='bar')"
   ]
  }
 ],
 "metadata": {
  "kernelspec": {
   "display_name": "Python 3 (ipykernel)",
   "language": "python",
   "name": "python3"
  },
  "language_info": {
   "codemirror_mode": {
    "name": "ipython",
    "version": 3
   },
   "file_extension": ".py",
   "mimetype": "text/x-python",
   "name": "python",
   "nbconvert_exporter": "python",
   "pygments_lexer": "ipython3",
   "version": "3.9.7"
  }
 },
 "nbformat": 4,
 "nbformat_minor": 5
}
